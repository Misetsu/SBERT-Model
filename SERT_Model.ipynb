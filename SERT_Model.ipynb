{
  "nbformat": 4,
  "nbformat_minor": 0,
  "metadata": {
    "colab": {
      "provenance": [],
      "authorship_tag": "ABX9TyOsOBkalt0MqB2gt0+LXXLn",
      "include_colab_link": true
    },
    "kernelspec": {
      "name": "python3",
      "display_name": "Python 3"
    },
    "language_info": {
      "name": "python"
    }
  },
  "cells": [
    {
      "cell_type": "markdown",
      "metadata": {
        "id": "view-in-github",
        "colab_type": "text"
      },
      "source": [
        "<a href=\"https://colab.research.google.com/github/Misetsu/SBERT-Model/blob/main/SERT_Model.ipynb\" target=\"_parent\"><img src=\"https://colab.research.google.com/assets/colab-badge.svg\" alt=\"Open In Colab\"/></a>"
      ]
    },
    {
      "cell_type": "markdown",
      "source": [
        "# ライブラリをインストール"
      ],
      "metadata": {
        "id": "tf8bH3LxRRIr"
      }
    },
    {
      "cell_type": "code",
      "execution_count": null,
      "metadata": {
        "id": "-PhgboM0-Uol",
        "colab": {
          "base_uri": "https://localhost:8080/"
        },
        "outputId": "a73f9dab-f65c-4d3a-fa94-cf0c10814456"
      },
      "outputs": [
        {
          "output_type": "stream",
          "name": "stdout",
          "text": [
            "Successfully installed huggingface-hub-0.17.3 safetensors-0.4.0 sentence-transformers-2.2.2 sentencepiece-0.1.99 tokenizers-0.14.1 transformers-4.34.0\n",
            "E: Unable to locate package python-mecab\n",
            "Reading state information...\n",
            "Successfully installed fugashi-1.3.0 ipadic-1.0.0 mecab-python3-1.0.8\n"
          ]
        }
      ],
      "source": [
        "!pip install -U sentence-transformers | tail -n 1\n",
        "!apt-get install mecab mecab-ipadic-utf8 python-mecab libmecab-dev | tail -n 1\n",
        "!pip install mecab-python3 fugashi ipadic | tail -n 1"
      ]
    },
    {
      "cell_type": "code",
      "source": [
        "!wget https://nlp.ist.i.kyoto-u.ac.jp/DLcounter/lime.cgi?down=https://nlp.ist.i.kyoto-u.ac.jp/nl-resource/JSNLI/jsnli_1.1.zip&name=JSNLI.zip\n",
        "!mv *zip* jsnli_1.1.zip\n",
        "!unzip jsnli_1.1.zip"
      ],
      "metadata": {
        "id": "lrKclaIA-1D9",
        "colab": {
          "base_uri": "https://localhost:8080/"
        },
        "outputId": "1d19f417-0c20-4825-c662-0512e50aeef8"
      },
      "execution_count": null,
      "outputs": [
        {
          "output_type": "stream",
          "name": "stdout",
          "text": [
            "--2023-10-10 00:57:56--  https://nlp.ist.i.kyoto-u.ac.jp/DLcounter/lime.cgi?down=https://nlp.ist.i.kyoto-u.ac.jp/nl-resource/JSNLI/jsnli_1.1.zip\n",
            "Resolving nlp.ist.i.kyoto-u.ac.jp (nlp.ist.i.kyoto-u.ac.jp)... 219.94.192.32\n",
            "Connecting to nlp.ist.i.kyoto-u.ac.jp (nlp.ist.i.kyoto-u.ac.jp)|219.94.192.32|:443... connected.\n",
            "HTTP request sent, awaiting response... 302 Found\n",
            "Location: https://nlp.ist.i.kyoto-u.ac.jp/nl-resource/JSNLI/jsnli_1.1.zip [following]\n",
            "--2023-10-10 00:57:56--  https://nlp.ist.i.kyoto-u.ac.jp/nl-resource/JSNLI/jsnli_1.1.zip\n",
            "Reusing existing connection to nlp.ist.i.kyoto-u.ac.jp:443.\n",
            "HTTP request sent, awaiting response... 200 OK\n",
            "Length: 44931163 (43M) [application/zip]\n",
            "Saving to: ‘lime.cgi?down=https:%2F%2Fnlp.ist.i.kyoto-u.ac.jp%2Fnl-resource%2FJSNLI%2Fjsnli_1.1.zip’\n",
            "\n",
            "lime.cgi?down=https 100%[===================>]  42.85M  10.5MB/s    in 4.4s    \n",
            "\n",
            "2023-10-10 00:58:01 (9.63 MB/s) - ‘lime.cgi?down=https:%2F%2Fnlp.ist.i.kyoto-u.ac.jp%2Fnl-resource%2FJSNLI%2Fjsnli_1.1.zip’ saved [44931163/44931163]\n",
            "\n",
            "Archive:  jsnli_1.1.zip\n",
            "   creating: jsnli_1.1/\n",
            "  inflating: jsnli_1.1/train_wo_filtering.tsv  \n",
            "  inflating: jsnli_1.1/train_w_filtering.tsv  \n",
            "  inflating: jsnli_1.1/dev.tsv       \n",
            "  inflating: jsnli_1.1/README.md     \n"
          ]
        }
      ]
    },
    {
      "cell_type": "code",
      "source": [
        "from google.colab import auth\n",
        "auth.authenticate_user()"
      ],
      "metadata": {
        "id": "955zSvC3DoHA"
      },
      "execution_count": null,
      "outputs": []
    },
    {
      "cell_type": "markdown",
      "source": [
        "# モデルのロード関数"
      ],
      "metadata": {
        "id": "mWORVQWfCgqV"
      }
    },
    {
      "cell_type": "code",
      "source": [
        "import os\n",
        "import json\n",
        "import tensorflow as tf\n",
        "from sentence_transformers import models, SentenceTransformer\n",
        "from transformers import BertJapaneseTokenizer, AdamW\n",
        "\n",
        "def load_model(model_name, max_seq_length=75):\n",
        "  word_embedding_model = models.Transformer(model_name, max_seq_length=max_seq_length)\n",
        "  pooling_model = models.Pooling(word_embedding_model.get_word_embedding_dimension(), pooling_mode='mean')\n",
        "  model = SentenceTransformer(modules=[word_embedding_model, pooling_model])\n",
        "  return model"
      ],
      "metadata": {
        "id": "oinX_dK--52m"
      },
      "execution_count": null,
      "outputs": []
    },
    {
      "cell_type": "markdown",
      "source": [
        "# データの読み込み"
      ],
      "metadata": {
        "id": "RSQk_WtRClU3"
      }
    },
    {
      "cell_type": "markdown",
      "source": [
        "JSNLIデータセット。二つの文章を比べて、「含意」、「矛盾」、または「どちらでもない」のラベルを付ける。"
      ],
      "metadata": {
        "id": "_jn-8udPSWgc"
      }
    },
    {
      "cell_type": "code",
      "source": [
        "import math\n",
        "from sentence_transformers import models, losses, datasets\n",
        "from sentence_transformers import LoggingHandler, SentenceTransformer, util, InputExample\n",
        "from sentence_transformers.evaluation import ParaphraseMiningEvaluator\n",
        "import logging\n",
        "from datetime import datetime\n",
        "import sys\n",
        "import os\n",
        "import gzip\n",
        "import csv\n",
        "import random\n",
        "\n",
        "logging.basicConfig(format='%(asctime)s - %(message)s',\n",
        "                    datefmt='%Y-%m-%d %H:%M:%S',\n",
        "                    level=logging.INFO,\n",
        "                    handlers=[LoggingHandler()])"
      ],
      "metadata": {
        "id": "3Glu8Ujs_tc-"
      },
      "execution_count": null,
      "outputs": []
    },
    {
      "cell_type": "code",
      "source": [
        "# 学習データ\n",
        "def add_to_samples(data, sent1, sent2, label):\n",
        "  if sent1 not in data:\n",
        "    data[sent1] = {'contradiction': set(), 'entailment': set(), 'neutral': set()}\n",
        "  data[sent1][label].add(sent2)\n",
        "\n",
        "def load_data(filename):\n",
        "  data = {}\n",
        "  with open(filename, \"r\") as f:\n",
        "    lines = f.readlines()\n",
        "    lines = [line.strip().split(\"\\t\") for line in lines]\n",
        "    rows = [[line[0], line[1].replace(\" \", \"\"), line[2].replace(\" \", \"\")] for line in lines]\n",
        "    for row in rows:\n",
        "      label = row[0]\n",
        "      sent1 = row[1]\n",
        "      sent2 = row[2]\n",
        "      add_to_samples(data, sent1, sent2, label)\n",
        "      add_to_samples(data, sent2, sent1, label)\n",
        "\n",
        "  # 「含意」の文章（似たような文章）を１つのテストデータとしてまとめる\n",
        "  samples = []\n",
        "  for sent1, others in data.items():\n",
        "    if len(others['entailment']) > 0 and len(others['contradiction']) > 0:\n",
        "      samples.append(InputExample(texts=[sent1, random.choice(list(others['entailment'])), random.choice(list(others['contradiction']))]))\n",
        "      samples.append(InputExample(texts=[random.choice(list(others['entailment'])), sent1, random.choice(list(others['contradiction']))]))\n",
        "\n",
        "  # 重複したデータを消す\n",
        "  dedup = {}\n",
        "  for sample in samples:\n",
        "    key = \"\".join(sample.texts)\n",
        "    dedup[key] = sample\n",
        "  return list(dedup.values())\n",
        "\n",
        "train_samples = load_data(\"jsnli_1.1/train_w_filtering.tsv\")\n",
        "\n",
        "# 学習データの件数\n",
        "len(train_samples)"
      ],
      "metadata": {
        "id": "yZ_AyumwB9dp",
        "colab": {
          "base_uri": "https://localhost:8080/"
        },
        "outputId": "b8d66740-91a4-4a4f-a71f-afe0e08b550d"
      },
      "execution_count": null,
      "outputs": [
        {
          "output_type": "execute_result",
          "data": {
            "text/plain": [
              "294576"
            ]
          },
          "metadata": {},
          "execution_count": 5
        }
      ]
    },
    {
      "cell_type": "code",
      "source": [
        "for sample in train_samples[:3]:\n",
        "  print(sample.texts)"
      ],
      "metadata": {
        "id": "JBoljtaaCC09",
        "colab": {
          "base_uri": "https://localhost:8080/"
        },
        "outputId": "7af74547-cc13-4f6c-d3e5-c4167c1a10fb"
      },
      "execution_count": null,
      "outputs": [
        {
          "output_type": "stream",
          "name": "stdout",
          "text": [
            "['ガレージで、壁にナイフを投げる男。', 'ガレージに男がいます。', '男が台所のテーブルで本を読んでいます。'] \n",
            "['ガレージに男がいます。', 'ガレージで、壁にナイフを投げる男。', '男が台所のテーブルで本を読んでいます。'] \n",
            "['ラップトップコンピューターを使用して机に座っている若い白人男。', '人は椅子に座っています。', '黒人はデスクトップコンピューターを使用します。'] \n"
          ]
        }
      ]
    },
    {
      "cell_type": "code",
      "source": [
        "# 評価データ\n",
        "def load_data_for_paraphrase_mining(filename):\n",
        "  sentences_map = {} # id -> sent\n",
        "  sentences_reverse_map = {} # sent -> id\n",
        "  duplicates_list = [] # (id1, id2)\n",
        "\n",
        "  def register(sent):\n",
        "    if sent not in sentences_reverse_map:\n",
        "      id = str(len(sentences_reverse_map))\n",
        "      sentences_reverse_map[sent] = id\n",
        "      sentences_map[id] = sent\n",
        "      return id\n",
        "    else:\n",
        "      return sentences_reverse_map[sent]\n",
        "\n",
        "  with open(filename, \"r\") as f:\n",
        "    lines = f.readlines()\n",
        "    lines = [line.strip().split(\"\\t\") for line in lines]\n",
        "    rows = [[line[0], line[1].replace(\" \", \"\"), line[2].replace(\" \", \"\")] for line in lines]\n",
        "    for row in rows:\n",
        "      label = row[0]\n",
        "      sent1 = row[1]\n",
        "      sent2 = row[2]\n",
        "      ids = [register(sent) for sent in [sent1, sent2]]\n",
        "      if label == \"entailment\":\n",
        "        duplicates_list.append(tuple(ids))\n",
        "  return sentences_map, duplicates_list\n",
        "\n",
        "sentences_map, duplicates_list = load_data_for_paraphrase_mining(\"jsnli_1.1/dev.tsv\")\n",
        "\n",
        "# 評価データの件数\n",
        "len(sentences_map)"
      ],
      "metadata": {
        "id": "fqPsfCanCF8G",
        "colab": {
          "base_uri": "https://localhost:8080/"
        },
        "outputId": "43ac5fed-fe40-4133-8d23-16fd13c3cc7c"
      },
      "execution_count": null,
      "outputs": [
        {
          "output_type": "execute_result",
          "data": {
            "text/plain": [
              "5809"
            ]
          },
          "metadata": {},
          "execution_count": 15
        }
      ]
    },
    {
      "cell_type": "code",
      "source": [
        "# 「含意」ラベル（類似文章）の件数\n",
        "len(duplicates_list)"
      ],
      "metadata": {
        "id": "YyyaOZn0CI8i",
        "colab": {
          "base_uri": "https://localhost:8080/"
        },
        "outputId": "71805585-b9ce-4e09-cc97-23d1b5a76052"
      },
      "execution_count": null,
      "outputs": [
        {
          "output_type": "execute_result",
          "data": {
            "text/plain": [
              "1432"
            ]
          },
          "metadata": {},
          "execution_count": 29
        }
      ]
    },
    {
      "cell_type": "markdown",
      "source": [
        "# 学習"
      ],
      "metadata": {
        "id": "wapTeJUVCpyJ"
      }
    },
    {
      "cell_type": "code",
      "source": [
        "model_name = \"cl-tohoku/bert-base-japanese-whole-word-masking\"\n",
        "\n",
        "model_save_path = \"./strf_{}\".format(model_name.replace(\"/\",\"_\"))\n",
        "model_save_path"
      ],
      "metadata": {
        "id": "E4aqx2vjCKqY",
        "colab": {
          "base_uri": "https://localhost:8080/",
          "height": 36
        },
        "outputId": "c6062848-653c-43fe-c581-35995de17332"
      },
      "execution_count": null,
      "outputs": [
        {
          "output_type": "execute_result",
          "data": {
            "text/plain": [
              "'./strf_cl-tohoku_bert-base-japanese-whole-word-masking'"
            ],
            "application/vnd.google.colaboratory.intrinsic+json": {
              "type": "string"
            }
          },
          "metadata": {},
          "execution_count": 13
        }
      ]
    },
    {
      "cell_type": "code",
      "source": [
        "train_batch_size = 48\n",
        "max_seq_length = 75\n",
        "num_epochs = 1\n",
        "\n",
        "model = load_model(model_name, max_seq_length=max_seq_length)"
      ],
      "metadata": {
        "id": "rTNDXxKcCOsi",
        "colab": {
          "base_uri": "https://localhost:8080/",
          "height": 145,
          "referenced_widgets": [
            "0448b46bbf9e47548c6ac47689719794",
            "5f89a8070e5a4f5dafcd13da75243f0d",
            "73e90357648e4014995f0f603159f12b",
            "2af1a2a171854332a519532fb8cb3adf",
            "bf4eb8bd954844d9aab7a8b857e5ebba",
            "0cfdc318c4834d9587327d700c11f634",
            "4a0182266e7843e0ba581563ec71a095",
            "0f3850ffa8524655bed21ace7236f09c",
            "430cb4aaa2fb4228b9042d77811a6159",
            "3d28fe1d95e84fa5aa74563a5a582ba8",
            "f86524eef2424a6dab29822bf5e121c0",
            "7d1ab815cda149aca2f5d0e7e6456456",
            "c5dd1e0666f14d23b912b461e0abcb85",
            "d0f43f6e54294f42b83a392a02864a91",
            "e4a42fba4c4a45dfbbaa924017df58f0",
            "d8853026e6f946328fd2aade85257f2f",
            "dcb226f71cbc445e8dd3a0237e47dc3f",
            "fefd3802aa1146618039b3b8d8659b58",
            "2972269661fe4450921a71c39870700a",
            "1f929f9aa64b4388b99082b787534ff4",
            "096c048ec73f4da48c37c7b055e14289",
            "6cf02f80dc8648d6adf4f69267c6fb04",
            "5bb863d49f5b4c1aad765c2552556eb0",
            "b94f28f2300d4e018c1c3d27fcc36fec",
            "e9b52f46dbc4417a9a40024e0d8bd1fe",
            "7092d5c5d8034cde90b808f1b00222b3",
            "3374a4f1bb7945cfbca4ebb2ee3b27c5",
            "2ea1c6bc35c943b6a5bab564a185e1d3",
            "e368744202ab4d01b74808cf8506732a",
            "fc6542eb365c4432a5fc2921306f70c0",
            "dd6ee7a3f55b4edb86c77cf01f468dd5",
            "6398022482ff487b9bba26c2ea24fe97",
            "d9eae48bcb8146cc91b5ee816a2ac92d",
            "ed952222727c42c694edc756fbf2e432",
            "ea8e7dea136a4fa3af238f399beeff16",
            "aa562486b9cd4eb39661a14d825ea112",
            "6272e5aa85e4449bbf2b46c9fd8f61c7",
            "bb1a0d6a55154d36a52384815d7bbc3b",
            "78c6c291160a4b108c2e08df2deaa50a",
            "cb7065f0f83a41ccbdda05c37579524c",
            "731296bcaed9482baa9dde6f56d06d19",
            "1a3e657772864c88b6f9adfa1546489c",
            "b9d49429471d45e2bd91f1b49fb540c1",
            "6241f682efd040b8bc932967de7990c0"
          ]
        },
        "outputId": "3515cbda-1e6d-4546-f703-74d0f3c11069"
      },
      "execution_count": null,
      "outputs": [
        {
          "output_type": "display_data",
          "data": {
            "text/plain": [
              "Downloading (…)lve/main/config.json:   0%|          | 0.00/479 [00:00<?, ?B/s]"
            ],
            "application/vnd.jupyter.widget-view+json": {
              "version_major": 2,
              "version_minor": 0,
              "model_id": "0448b46bbf9e47548c6ac47689719794"
            }
          },
          "metadata": {}
        },
        {
          "output_type": "display_data",
          "data": {
            "text/plain": [
              "Downloading pytorch_model.bin:   0%|          | 0.00/445M [00:00<?, ?B/s]"
            ],
            "application/vnd.jupyter.widget-view+json": {
              "version_major": 2,
              "version_minor": 0,
              "model_id": "7d1ab815cda149aca2f5d0e7e6456456"
            }
          },
          "metadata": {}
        },
        {
          "output_type": "display_data",
          "data": {
            "text/plain": [
              "Downloading (…)okenizer_config.json:   0%|          | 0.00/110 [00:00<?, ?B/s]"
            ],
            "application/vnd.jupyter.widget-view+json": {
              "version_major": 2,
              "version_minor": 0,
              "model_id": "5bb863d49f5b4c1aad765c2552556eb0"
            }
          },
          "metadata": {}
        },
        {
          "output_type": "display_data",
          "data": {
            "text/plain": [
              "Downloading (…)solve/main/vocab.txt:   0%|          | 0.00/258k [00:00<?, ?B/s]"
            ],
            "application/vnd.jupyter.widget-view+json": {
              "version_major": 2,
              "version_minor": 0,
              "model_id": "ed952222727c42c694edc756fbf2e432"
            }
          },
          "metadata": {}
        }
      ]
    },
    {
      "cell_type": "code",
      "source": [
        "model.tokenizer.__class__.__name__"
      ],
      "metadata": {
        "id": "HxdPxvnHCUW-",
        "colab": {
          "base_uri": "https://localhost:8080/",
          "height": 36
        },
        "outputId": "c5af0e86-684d-4a48-e869-9a9d5963a357"
      },
      "execution_count": null,
      "outputs": [
        {
          "output_type": "execute_result",
          "data": {
            "text/plain": [
              "'BertJapaneseTokenizer'"
            ],
            "application/vnd.google.colaboratory.intrinsic+json": {
              "type": "string"
            }
          },
          "metadata": {},
          "execution_count": 15
        }
      ]
    },
    {
      "cell_type": "code",
      "source": [
        "train_dataloader = datasets.NoDuplicatesDataLoader(train_samples, batch_size=train_batch_size)\n",
        "\n",
        "train_loss = losses.MultipleNegativesRankingLoss(model)\n",
        "\n",
        "dev_evaluator = ParaphraseMiningEvaluator(sentences_map, duplicates_list, name=\"paramin-jsnli-dev\")\n",
        "\n",
        "warmup_steps = math.ceil(len(train_dataloader) * num_epochs * 0.1)\n",
        "logging.info(\"Warmup-steps: {}\".format(warmup_steps))"
      ],
      "metadata": {
        "id": "IF6Bmak_CWq_"
      },
      "execution_count": null,
      "outputs": []
    },
    {
      "cell_type": "code",
      "source": [
        "model.fit(train_objectives=[(train_dataloader, train_loss)],\n",
        "          evaluator=dev_evaluator,\n",
        "          epochs=num_epochs,\n",
        "          evaluation_steps=int(len(train_dataloader)*0.1),\n",
        "          warmup_steps=warmup_steps,\n",
        "          output_path=model_save_path,\n",
        "          use_amp=False\n",
        "          )"
      ],
      "metadata": {
        "id": "hlsuK_-SC_Zj",
        "colab": {
          "base_uri": "https://localhost:8080/",
          "height": 81,
          "referenced_widgets": [
            "d4e216237fda4a58ad3c52cf8f0f242e",
            "7490dbc3a18240c58f19594f0990470a",
            "676cc7a260ae4b4abbdb3ceba6410e73",
            "72f6555e5dd741ab861c686af5ff6f55",
            "9b5b5fc90efd48418b883aaf5641cc9d",
            "816641092ae0414f850460f0f8a2a341",
            "b17670f5d6ec4f4c82658e7e6670e71b",
            "15afbb857c734ceebd6ec4c82ebacd8e",
            "c641ef2e5a10481b82fa4e851f64cc0d",
            "401b1a2ac3104de79e79a693faf3fec6",
            "6ada9ded8949413994f5f5b8a18f9f13",
            "5a136047c9084617a49937aba7a48f26",
            "bcd7ae74d15e462b902aaf73a8768ee8",
            "a906fe99ee1649b38f523a53f93d42da",
            "220962aa83d94e9998ee1f87d9aa2d79",
            "74d9a2c6848340dfb9040d86b1831fd5",
            "cf6d52458b6b49b68176be10f5453b8c",
            "254e4e76e03941209673f187202b0da3",
            "5606042a72074300ba81c95054710406",
            "de0eb1bb1e5c4169808437c38a7bdacc",
            "d4324c6f59d34a64809405ef0c4b24ce",
            "4672cc0428da43979641ee57601dc884"
          ]
        },
        "outputId": "027485e9-5c1d-4b95-b298-57bea1a3c201"
      },
      "execution_count": null,
      "outputs": [
        {
          "output_type": "display_data",
          "data": {
            "text/plain": [
              "Epoch:   0%|          | 0/1 [00:00<?, ?it/s]"
            ],
            "application/vnd.jupyter.widget-view+json": {
              "version_major": 2,
              "version_minor": 0,
              "model_id": "d4e216237fda4a58ad3c52cf8f0f242e"
            }
          },
          "metadata": {}
        },
        {
          "output_type": "display_data",
          "data": {
            "text/plain": [
              "Iteration:   0%|          | 0/6137 [00:00<?, ?it/s]"
            ],
            "application/vnd.jupyter.widget-view+json": {
              "version_major": 2,
              "version_minor": 0,
              "model_id": "5a136047c9084617a49937aba7a48f26"
            }
          },
          "metadata": {}
        }
      ]
    },
    {
      "cell_type": "code",
      "source": [
        "!zip -r /content/strf_cl-tohoku_bert_model.zip /content/strf_cl-tohoku_bert-base-japanese-whole-word-masking"
      ],
      "metadata": {
        "colab": {
          "base_uri": "https://localhost:8080/"
        },
        "id": "j4atE7-XrGtP",
        "outputId": "746d021d-422a-4db3-ae2f-f23c1e361194"
      },
      "execution_count": null,
      "outputs": [
        {
          "output_type": "stream",
          "name": "stdout",
          "text": [
            "  adding: content/strf_cl-tohoku_bert-base-japanese-whole-word-masking/ (stored 0%)\n",
            "  adding: content/strf_cl-tohoku_bert-base-japanese-whole-word-masking/vocab.txt (deflated 49%)\n",
            "  adding: content/strf_cl-tohoku_bert-base-japanese-whole-word-masking/config.json (deflated 48%)\n",
            "  adding: content/strf_cl-tohoku_bert-base-japanese-whole-word-masking/pytorch_model.bin (deflated 7%)\n",
            "  adding: content/strf_cl-tohoku_bert-base-japanese-whole-word-masking/modules.json (deflated 53%)\n",
            "  adding: content/strf_cl-tohoku_bert-base-japanese-whole-word-masking/special_tokens_map.json (deflated 42%)\n",
            "  adding: content/strf_cl-tohoku_bert-base-japanese-whole-word-masking/README.md (deflated 58%)\n",
            "  adding: content/strf_cl-tohoku_bert-base-japanese-whole-word-masking/eval/ (stored 0%)\n",
            "  adding: content/strf_cl-tohoku_bert-base-japanese-whole-word-masking/eval/paraphrase_mining_evaluation_paramin-jsnli-dev_results.csv (deflated 52%)\n",
            "  adding: content/strf_cl-tohoku_bert-base-japanese-whole-word-masking/tokenizer_config.json (deflated 52%)\n",
            "  adding: content/strf_cl-tohoku_bert-base-japanese-whole-word-masking/config_sentence_transformers.json (deflated 28%)\n",
            "  adding: content/strf_cl-tohoku_bert-base-japanese-whole-word-masking/sentence_bert_config.json (deflated 4%)\n",
            "  adding: content/strf_cl-tohoku_bert-base-japanese-whole-word-masking/1_Pooling/ (stored 0%)\n",
            "  adding: content/strf_cl-tohoku_bert-base-japanese-whole-word-masking/1_Pooling/config.json (deflated 47%)\n"
          ]
        }
      ]
    },
    {
      "cell_type": "code",
      "source": [
        "from google.colab import files\n",
        "files.download(\"/content/strf_cl-tohoku_bert_model.zip\")"
      ],
      "metadata": {
        "colab": {
          "base_uri": "https://localhost:8080/",
          "height": 34
        },
        "id": "c_taw42dsI7E",
        "outputId": "b6ace8e1-dacf-40f1-93d2-80726efeafd3"
      },
      "execution_count": null,
      "outputs": [
        {
          "output_type": "display_data",
          "data": {
            "text/plain": [
              "<IPython.core.display.Javascript object>"
            ],
            "application/javascript": [
              "\n",
              "    async function download(id, filename, size) {\n",
              "      if (!google.colab.kernel.accessAllowed) {\n",
              "        return;\n",
              "      }\n",
              "      const div = document.createElement('div');\n",
              "      const label = document.createElement('label');\n",
              "      label.textContent = `Downloading \"${filename}\": `;\n",
              "      div.appendChild(label);\n",
              "      const progress = document.createElement('progress');\n",
              "      progress.max = size;\n",
              "      div.appendChild(progress);\n",
              "      document.body.appendChild(div);\n",
              "\n",
              "      const buffers = [];\n",
              "      let downloaded = 0;\n",
              "\n",
              "      const channel = await google.colab.kernel.comms.open(id);\n",
              "      // Send a message to notify the kernel that we're ready.\n",
              "      channel.send({})\n",
              "\n",
              "      for await (const message of channel.messages) {\n",
              "        // Send a message to notify the kernel that we're ready.\n",
              "        channel.send({})\n",
              "        if (message.buffers) {\n",
              "          for (const buffer of message.buffers) {\n",
              "            buffers.push(buffer);\n",
              "            downloaded += buffer.byteLength;\n",
              "            progress.value = downloaded;\n",
              "          }\n",
              "        }\n",
              "      }\n",
              "      const blob = new Blob(buffers, {type: 'application/binary'});\n",
              "      const a = document.createElement('a');\n",
              "      a.href = window.URL.createObjectURL(blob);\n",
              "      a.download = filename;\n",
              "      div.appendChild(a);\n",
              "      a.click();\n",
              "      div.remove();\n",
              "    }\n",
              "  "
            ]
          },
          "metadata": {}
        },
        {
          "output_type": "display_data",
          "data": {
            "text/plain": [
              "<IPython.core.display.Javascript object>"
            ],
            "application/javascript": [
              "download(\"download_41e67891-2ec3-48c4-8877-7aff2add3d51\", \"strf_cl-tohoku_bert_model.zip\", 410596524)"
            ]
          },
          "metadata": {}
        }
      ]
    },
    {
      "cell_type": "code",
      "source": [
        "!unzip \"/content/drive/MyDrive/strf_cl-tohoku_bert_model.zip\" -d \"./\""
      ],
      "metadata": {
        "colab": {
          "base_uri": "https://localhost:8080/"
        },
        "id": "OB-LgdK9-sD7",
        "outputId": "9d94ede2-04ce-4166-cc00-a0a4bb32089b"
      },
      "execution_count": null,
      "outputs": [
        {
          "output_type": "stream",
          "name": "stdout",
          "text": [
            "Archive:  /content/drive/MyDrive/strf_cl-tohoku_bert_model.zip\n",
            "   creating: ./content/strf_cl-tohoku_bert-base-japanese-whole-word-masking/\n",
            "  inflating: ./content/strf_cl-tohoku_bert-base-japanese-whole-word-masking/vocab.txt  \n",
            "  inflating: ./content/strf_cl-tohoku_bert-base-japanese-whole-word-masking/config.json  \n",
            "  inflating: ./content/strf_cl-tohoku_bert-base-japanese-whole-word-masking/pytorch_model.bin  \n",
            "  inflating: ./content/strf_cl-tohoku_bert-base-japanese-whole-word-masking/modules.json  \n",
            "  inflating: ./content/strf_cl-tohoku_bert-base-japanese-whole-word-masking/special_tokens_map.json  \n",
            "  inflating: ./content/strf_cl-tohoku_bert-base-japanese-whole-word-masking/README.md  \n",
            "   creating: ./content/strf_cl-tohoku_bert-base-japanese-whole-word-masking/eval/\n",
            "  inflating: ./content/strf_cl-tohoku_bert-base-japanese-whole-word-masking/eval/paraphrase_mining_evaluation_paramin-jsnli-dev_results.csv  \n",
            "  inflating: ./content/strf_cl-tohoku_bert-base-japanese-whole-word-masking/tokenizer_config.json  \n",
            "  inflating: ./content/strf_cl-tohoku_bert-base-japanese-whole-word-masking/config_sentence_transformers.json  \n",
            "  inflating: ./content/strf_cl-tohoku_bert-base-japanese-whole-word-masking/sentence_bert_config.json  \n",
            "   creating: ./content/strf_cl-tohoku_bert-base-japanese-whole-word-masking/1_Pooling/\n",
            "  inflating: ./content/strf_cl-tohoku_bert-base-japanese-whole-word-masking/1_Pooling/config.json  \n"
          ]
        }
      ]
    },
    {
      "cell_type": "markdown",
      "source": [
        "# 蒸留モデル"
      ],
      "metadata": {
        "id": "CcO75iicuO5Y"
      }
    },
    {
      "cell_type": "code",
      "source": [
        "import torch\n",
        "from torch.utils.data import DataLoader\n",
        "from sentence_transformers.datasets import ParallelSentencesDataset\n",
        "from sentence_transformers import models, losses, evaluation, SentenceTransformer\n",
        "from sentence_transformers.evaluation import ParaphraseMiningEvaluator"
      ],
      "metadata": {
        "id": "x7OsIQnruNzZ"
      },
      "execution_count": null,
      "outputs": []
    },
    {
      "cell_type": "code",
      "source": [
        "teacher_model_name = \"/content/content/strf_cl-tohoku_bert-base-japanese-whole-word-masking\"\n",
        "teacher_model = SentenceTransformer(teacher_model_name)"
      ],
      "metadata": {
        "id": "1vG390EluWYs"
      },
      "execution_count": null,
      "outputs": []
    },
    {
      "cell_type": "code",
      "source": [
        "output_path = \"./strf_distilled_cl-tohoku_bert-base-japanese-whole-word-masking\""
      ],
      "metadata": {
        "id": "1RBEElJNuiE8"
      },
      "execution_count": null,
      "outputs": []
    },
    {
      "cell_type": "code",
      "source": [
        "student_model = SentenceTransformer(teacher_model_name)\n",
        "auto_model = student_model._first_module().auto_model\n",
        "layers_to_keep = [1, 4, 7, 10]\n",
        "\n",
        "new_layers = torch.nn.ModuleList([layer_module for i, layer_module in enumerate(auto_model.encoder.layer) if i in layers_to_keep])\n",
        "auto_model.encoder.layer = new_layers\n",
        "auto_model.config.num_hidden_layers = len(layers_to_keep)"
      ],
      "metadata": {
        "id": "Y-G0XM7cu6Lo"
      },
      "execution_count": null,
      "outputs": []
    },
    {
      "cell_type": "code",
      "source": [
        "inference_batch_size = 48\n",
        "train_batch_size = 48"
      ],
      "metadata": {
        "id": "sadTAdGBu79C"
      },
      "execution_count": null,
      "outputs": []
    },
    {
      "cell_type": "markdown",
      "source": [
        "## データの読み込み"
      ],
      "metadata": {
        "id": "jtGuvV9ovU5b"
      }
    },
    {
      "cell_type": "code",
      "source": [
        "def load_sentences(filename):\n",
        "  data = []\n",
        "  with open(filename, \"r\") as f:\n",
        "    lines = f.readlines()\n",
        "    lines = [line.strip().split(\"\\t\") for line in lines]\n",
        "    rows = [[line[0], line[1].replace(\" \", \"\"), line[2].replace(\" \", \"\")] for line in lines]\n",
        "    for row in rows:\n",
        "      label = row[0]\n",
        "      sent1 = row[1]\n",
        "      sent2 = row[2]\n",
        "      data.append(sent1)\n",
        "      data.append(sent2)\n",
        "    return list(set(data))\n",
        "\n",
        "train_sentences = load_sentences(\"jsnli_1.1/train_w_filtering.tsv\")\n",
        "len(train_sentences)"
      ],
      "metadata": {
        "colab": {
          "base_uri": "https://localhost:8080/"
        },
        "id": "e3p_iWimu-16",
        "outputId": "dab8eb9d-6e97-4473-ff4f-c3ef9aefe1c7"
      },
      "execution_count": null,
      "outputs": [
        {
          "output_type": "execute_result",
          "data": {
            "text/plain": [
              "584921"
            ]
          },
          "metadata": {},
          "execution_count": 10
        }
      ]
    },
    {
      "cell_type": "code",
      "source": [
        "train_data = ParallelSentencesDataset(student_model=student_model, teacher_model=teacher_model, batch_size=inference_batch_size, use_embedding_cache=False)\n",
        "train_data.add_dataset([[sent] for sent in train_sentences], max_sentence_length=75)"
      ],
      "metadata": {
        "id": "74d5TGoRvA8F"
      },
      "execution_count": null,
      "outputs": []
    },
    {
      "cell_type": "code",
      "source": [
        "train_dataloader = DataLoader(train_data, shuffle=True, batch_size=train_batch_size)\n",
        "train_loss = losses.MSELoss(model=student_model)"
      ],
      "metadata": {
        "id": "2aT6yfAtvCpR"
      },
      "execution_count": null,
      "outputs": []
    },
    {
      "cell_type": "code",
      "source": [
        "def load_data_for_paraphrase_mining(filename):\n",
        "  sentences_map = {} # id -> sent\n",
        "  sentences_reverse_map = {} # sent -> id\n",
        "  duplicates_list = [] # (id1, id2)\n",
        "\n",
        "  def register(sent):\n",
        "    if sent not in sentences_reverse_map:\n",
        "      id = str(len(sentences_reverse_map))\n",
        "      sentences_reverse_map[sent] = id\n",
        "      sentences_map[id] = sent\n",
        "      return id\n",
        "    else:\n",
        "      return sentences_reverse_map[sent]\n",
        "\n",
        "  with open(filename, \"r\") as f:\n",
        "    lines = f.readlines()\n",
        "    lines = [line.strip().split(\"\\t\") for line in lines]\n",
        "    rows = [[line[0], line[1].replace(\" \", \"\"), line[2].replace(\" \", \"\")] for line in lines]\n",
        "    for row in rows:\n",
        "      label = row[0]\n",
        "      sent1 = row[1]\n",
        "      sent2 = row[2]\n",
        "      ids = [register(sent) for sent in [sent1, sent2]]\n",
        "      if label == \"entailment\":\n",
        "        duplicates_list.append(tuple(ids))\n",
        "  return sentences_map, duplicates_list\n",
        "\n",
        "sentences_map, duplicates_list = load_data_for_paraphrase_mining(\"jsnli_1.1/dev.tsv\")\n",
        "len(sentences_map)"
      ],
      "metadata": {
        "colab": {
          "base_uri": "https://localhost:8080/"
        },
        "id": "gv12sD363ahY",
        "outputId": "acc21968-679f-4262-c5da-dc3fa2e16064"
      },
      "execution_count": null,
      "outputs": [
        {
          "output_type": "execute_result",
          "data": {
            "text/plain": [
              "5809"
            ]
          },
          "metadata": {},
          "execution_count": 19
        }
      ]
    },
    {
      "cell_type": "code",
      "source": [
        "dev_sentences = load_sentences(\"jsnli_1.1/dev.tsv\")\n",
        "dev_evaluator_mse = evaluation.MSEEvaluator(dev_sentences, dev_sentences, teacher_model=teacher_model)\n",
        "dev_evaluator = ParaphraseMiningEvaluator(sentences_map, duplicates_list, name=\"paramin-jsnli-dev\")"
      ],
      "metadata": {
        "id": "vnVzD28GvE-n"
      },
      "execution_count": null,
      "outputs": []
    },
    {
      "cell_type": "code",
      "source": [
        "student_model.fit(train_objectives=[(train_dataloader, train_loss)],\n",
        "                  evaluator=evaluation.SequentialEvaluator([dev_evaluator, dev_evaluator_mse]),\n",
        "                  epochs=1,\n",
        "                  warmup_steps=1000,\n",
        "                  evaluation_steps=5000,\n",
        "                  output_path=output_path,\n",
        "                  save_best_model=True,\n",
        "                  optimizer_class= AdamW,\n",
        "                  optimizer_params={'lr': 1e-4, 'eps': 1e-6, 'correct_bias': False},\n",
        "                  use_amp=False)"
      ],
      "metadata": {
        "id": "J3MlobCtvGRw",
        "colab": {
          "base_uri": "https://localhost:8080/",
          "height": 170,
          "referenced_widgets": [
            "1c28c7c31f7945ffa2a8e08a269e82a5",
            "22ed53f746784a899cd265834cda6cd2",
            "20919edc129a44d889a2890d3cf4858f",
            "a67e2da84e7f4ec5bdc1db8e66a9b852",
            "e33385dc433e487e8ec2f558517b0173",
            "01450cbbf56d4f51a0d93df5f157b671",
            "9ead4f3a7b304413bdda7552e277b894",
            "f09007a66fc24d8484ee8429b845b08b",
            "02e88e052809414ab8b81ede2da33e56",
            "f745ea1bcda3476eb35802c610a1585f",
            "1873162040324777bc5636f047bde881",
            "7cd93589c82b47509b2f6fc07d367ab8",
            "9f944a6d0d9d4d65affcc54e74442f6e",
            "a22e792d74594f8cb1143fbafb015318",
            "8ce15211f6b142ec9ed8bd95e53f087e",
            "a3d4715ed0424fdf94254ca52e4efc37",
            "b5b4664b5050442684077dd39e99acca",
            "9d4822cf8ff5413696945b08ca865fb1",
            "c8a77b1527434e6787ae9cf90eb67e58",
            "301a0684991041059920a3fea84bfe50",
            "f0facc62d0804acf905bc70721d69b1c",
            "6e19c0b86e154b96b08fc74b1680ae80"
          ]
        },
        "outputId": "950e72b9-7a7e-4640-c0e3-4e13ee092d82"
      },
      "execution_count": null,
      "outputs": [
        {
          "output_type": "stream",
          "name": "stderr",
          "text": [
            "/usr/local/lib/python3.10/dist-packages/transformers/optimization.py:411: FutureWarning: This implementation of AdamW is deprecated and will be removed in a future version. Use the PyTorch implementation torch.optim.AdamW instead, or set `no_deprecation_warning=True` to disable this warning\n",
            "  warnings.warn(\n"
          ]
        },
        {
          "output_type": "display_data",
          "data": {
            "text/plain": [
              "Epoch:   0%|          | 0/1 [00:00<?, ?it/s]"
            ],
            "application/vnd.jupyter.widget-view+json": {
              "version_major": 2,
              "version_minor": 0,
              "model_id": "1c28c7c31f7945ffa2a8e08a269e82a5"
            }
          },
          "metadata": {}
        },
        {
          "output_type": "display_data",
          "data": {
            "text/plain": [
              "Iteration:   0%|          | 0/12173 [00:00<?, ?it/s]"
            ],
            "application/vnd.jupyter.widget-view+json": {
              "version_major": 2,
              "version_minor": 0,
              "model_id": "7cd93589c82b47509b2f6fc07d367ab8"
            }
          },
          "metadata": {}
        },
        {
          "output_type": "stream",
          "name": "stderr",
          "text": [
            "/usr/local/lib/python3.10/dist-packages/sentence_transformers/SentenceTransformer.py:547: UserWarning: Creating a tensor from a list of numpy.ndarrays is extremely slow. Please consider converting the list to a single numpy.ndarray with numpy.array() before converting to a tensor. (Triggered internally at ../torch/csrc/utils/tensor_new.cpp:245.)\n",
            "  labels = torch.tensor(labels)\n"
          ]
        }
      ]
    },
    {
      "cell_type": "code",
      "source": [
        "!zip -r /content/strf_distilled_cl-tohoku_bert_model.zip /content/strf_distilled_cl-tohoku_bert-base-japanese-whole-word-masking"
      ],
      "metadata": {
        "colab": {
          "base_uri": "https://localhost:8080/"
        },
        "id": "4ksCxRZ7ghkj",
        "outputId": "c648f6fc-238f-4ca1-e75a-17ab56b8bf3f"
      },
      "execution_count": null,
      "outputs": [
        {
          "output_type": "stream",
          "name": "stdout",
          "text": [
            "  adding: content/strf_distilled_cl-tohoku_bert-base-japanese-whole-word-masking/ (stored 0%)\n",
            "  adding: content/strf_distilled_cl-tohoku_bert-base-japanese-whole-word-masking/config.json (deflated 48%)\n",
            "  adding: content/strf_distilled_cl-tohoku_bert-base-japanese-whole-word-masking/1_Pooling/ (stored 0%)\n",
            "  adding: content/strf_distilled_cl-tohoku_bert-base-japanese-whole-word-masking/1_Pooling/config.json (deflated 47%)\n",
            "  adding: content/strf_distilled_cl-tohoku_bert-base-japanese-whole-word-masking/sentence_bert_config.json (deflated 4%)\n",
            "  adding: content/strf_distilled_cl-tohoku_bert-base-japanese-whole-word-masking/special_tokens_map.json (deflated 42%)\n",
            "  adding: content/strf_distilled_cl-tohoku_bert-base-japanese-whole-word-masking/config_sentence_transformers.json (deflated 28%)\n",
            "  adding: content/strf_distilled_cl-tohoku_bert-base-japanese-whole-word-masking/eval/ (stored 0%)\n",
            "  adding: content/strf_distilled_cl-tohoku_bert-base-japanese-whole-word-masking/eval/paraphrase_mining_evaluation_paramin-jsnli-dev_results.csv (deflated 40%)\n",
            "  adding: content/strf_distilled_cl-tohoku_bert-base-japanese-whole-word-masking/eval/mse_evaluation__results.csv (deflated 13%)\n",
            "  adding: content/strf_distilled_cl-tohoku_bert-base-japanese-whole-word-masking/vocab.txt (deflated 49%)\n",
            "  adding: content/strf_distilled_cl-tohoku_bert-base-japanese-whole-word-masking/tokenizer_config.json (deflated 52%)\n",
            "  adding: content/strf_distilled_cl-tohoku_bert-base-japanese-whole-word-masking/README.md (deflated 58%)\n",
            "  adding: content/strf_distilled_cl-tohoku_bert-base-japanese-whole-word-masking/modules.json (deflated 53%)\n",
            "  adding: content/strf_distilled_cl-tohoku_bert-base-japanese-whole-word-masking/pytorch_model.bin (deflated 7%)\n"
          ]
        }
      ]
    },
    {
      "cell_type": "markdown",
      "source": [
        "# 評価"
      ],
      "metadata": {
        "id": "nCvnATrRohMb"
      }
    },
    {
      "cell_type": "code",
      "source": [
        "!unzip \"/content/drive/MyDrive/strf_cl-tohoku_bert_model.zip\" -d \"./\""
      ],
      "metadata": {
        "colab": {
          "base_uri": "https://localhost:8080/"
        },
        "id": "typApaKR2pRK",
        "outputId": "d90ae5fd-d6b5-419f-b926-087459585aee"
      },
      "execution_count": null,
      "outputs": [
        {
          "output_type": "stream",
          "name": "stdout",
          "text": [
            "Archive:  /content/drive/MyDrive/strf_cl-tohoku_bert_model.zip\n",
            "   creating: ./content/strf_cl-tohoku_bert-base-japanese-whole-word-masking/\n",
            "  inflating: ./content/strf_cl-tohoku_bert-base-japanese-whole-word-masking/vocab.txt  \n",
            "  inflating: ./content/strf_cl-tohoku_bert-base-japanese-whole-word-masking/config.json  \n",
            "  inflating: ./content/strf_cl-tohoku_bert-base-japanese-whole-word-masking/pytorch_model.bin  \n",
            "  inflating: ./content/strf_cl-tohoku_bert-base-japanese-whole-word-masking/modules.json  \n",
            "  inflating: ./content/strf_cl-tohoku_bert-base-japanese-whole-word-masking/special_tokens_map.json  \n",
            "  inflating: ./content/strf_cl-tohoku_bert-base-japanese-whole-word-masking/README.md  \n",
            "   creating: ./content/strf_cl-tohoku_bert-base-japanese-whole-word-masking/eval/\n",
            "  inflating: ./content/strf_cl-tohoku_bert-base-japanese-whole-word-masking/eval/paraphrase_mining_evaluation_paramin-jsnli-dev_results.csv  \n",
            "  inflating: ./content/strf_cl-tohoku_bert-base-japanese-whole-word-masking/tokenizer_config.json  \n",
            "  inflating: ./content/strf_cl-tohoku_bert-base-japanese-whole-word-masking/config_sentence_transformers.json  \n",
            "  inflating: ./content/strf_cl-tohoku_bert-base-japanese-whole-word-masking/sentence_bert_config.json  \n",
            "   creating: ./content/strf_cl-tohoku_bert-base-japanese-whole-word-masking/1_Pooling/\n",
            "  inflating: ./content/strf_cl-tohoku_bert-base-japanese-whole-word-masking/1_Pooling/config.json  \n"
          ]
        }
      ]
    },
    {
      "cell_type": "code",
      "source": [
        "!unzip \"/content/drive/MyDrive/strf_distilled_cl-tohoku_bert_model.zip\" -d \"./\""
      ],
      "metadata": {
        "colab": {
          "base_uri": "https://localhost:8080/"
        },
        "id": "MVwx6VU92qBM",
        "outputId": "5e764d86-8760-421e-a9b9-9a89f58957cd"
      },
      "execution_count": null,
      "outputs": [
        {
          "output_type": "stream",
          "name": "stdout",
          "text": [
            "Archive:  /content/drive/MyDrive/strf_distilled_cl-tohoku_bert_model.zip\n",
            "   creating: ./content/strf_distilled_cl-tohoku_bert-base-japanese-whole-word-masking/\n",
            "  inflating: ./content/strf_distilled_cl-tohoku_bert-base-japanese-whole-word-masking/config.json  \n",
            "   creating: ./content/strf_distilled_cl-tohoku_bert-base-japanese-whole-word-masking/1_Pooling/\n",
            "  inflating: ./content/strf_distilled_cl-tohoku_bert-base-japanese-whole-word-masking/1_Pooling/config.json  \n",
            "  inflating: ./content/strf_distilled_cl-tohoku_bert-base-japanese-whole-word-masking/sentence_bert_config.json  \n",
            "  inflating: ./content/strf_distilled_cl-tohoku_bert-base-japanese-whole-word-masking/special_tokens_map.json  \n",
            "  inflating: ./content/strf_distilled_cl-tohoku_bert-base-japanese-whole-word-masking/config_sentence_transformers.json  \n",
            "   creating: ./content/strf_distilled_cl-tohoku_bert-base-japanese-whole-word-masking/eval/\n",
            "  inflating: ./content/strf_distilled_cl-tohoku_bert-base-japanese-whole-word-masking/eval/paraphrase_mining_evaluation_paramin-jsnli-dev_results.csv  \n",
            "  inflating: ./content/strf_distilled_cl-tohoku_bert-base-japanese-whole-word-masking/eval/mse_evaluation__results.csv  \n",
            "  inflating: ./content/strf_distilled_cl-tohoku_bert-base-japanese-whole-word-masking/vocab.txt  \n",
            "  inflating: ./content/strf_distilled_cl-tohoku_bert-base-japanese-whole-word-masking/tokenizer_config.json  \n",
            "  inflating: ./content/strf_distilled_cl-tohoku_bert-base-japanese-whole-word-masking/README.md  \n",
            "  inflating: ./content/strf_distilled_cl-tohoku_bert-base-japanese-whole-word-masking/modules.json  \n",
            "  inflating: ./content/strf_distilled_cl-tohoku_bert-base-japanese-whole-word-masking/pytorch_model.bin  \n"
          ]
        }
      ]
    },
    {
      "cell_type": "code",
      "source": [
        "model = SentenceTransformer(\"/content/content/strf_cl-tohoku_bert-base-japanese-whole-word-masking\")\n",
        "dis_model = SentenceTransformer(\"/content/content/strf_distilled_cl-tohoku_bert-base-japanese-whole-word-masking\")"
      ],
      "metadata": {
        "id": "3s64RSCu21ha"
      },
      "execution_count": null,
      "outputs": []
    },
    {
      "cell_type": "code",
      "source": [
        "dev_evaluator = ParaphraseMiningEvaluator(sentences_map, duplicates_list, name=\"paramin-jsnli-dev\")"
      ],
      "metadata": {
        "id": "0pwwy48yCJM6"
      },
      "execution_count": null,
      "outputs": []
    },
    {
      "cell_type": "code",
      "source": [
        "dev_evaluator(model)"
      ],
      "metadata": {
        "colab": {
          "base_uri": "https://localhost:8080/"
        },
        "id": "Wb5JpItECUio",
        "outputId": "3edeb979-ce4a-4ca4-e552-07deac7fff51"
      },
      "execution_count": null,
      "outputs": [
        {
          "output_type": "execute_result",
          "data": {
            "text/plain": [
              "0.13061097484805062"
            ]
          },
          "metadata": {},
          "execution_count": 31
        }
      ]
    },
    {
      "cell_type": "code",
      "source": [
        "from sklearn.decomposition import PCA\n",
        "import numpy as np\n",
        "import torch\n",
        "from sentence_transformers import models, losses, evaluation, SentenceTransformer"
      ],
      "metadata": {
        "id": "ktNRNHeG3mBH"
      },
      "execution_count": null,
      "outputs": []
    },
    {
      "cell_type": "code",
      "source": [
        "new_dimension = 128"
      ],
      "metadata": {
        "id": "RfyrCfct3pvd"
      },
      "execution_count": null,
      "outputs": []
    },
    {
      "cell_type": "code",
      "source": [
        "def load_sentences(filename):\n",
        "  data = []\n",
        "  with open(filename, \"r\") as f:\n",
        "    lines = f.readlines()\n",
        "    lines = [line.strip().split(\"\\t\") for line in lines]\n",
        "    rows = [[line[0], line[1].replace(\" \", \"\"), line[2].replace(\" \", \"\")] for line in lines]\n",
        "    for row in rows:\n",
        "      label = row[0]\n",
        "      sent1 = row[1]\n",
        "      sent2 = row[2]\n",
        "      data.append(sent1)\n",
        "      data.append(sent2)\n",
        "    return list(set(data))\n",
        "\n",
        "train_sentences = load_sentences(\"jsnli_1.1/train_w_filtering.tsv\")\n",
        "len(train_sentences)"
      ],
      "metadata": {
        "colab": {
          "base_uri": "https://localhost:8080/"
        },
        "id": "JVh3iLsq4O_N",
        "outputId": "3f7fa4d5-26cf-4525-8c38-aa44ec397570"
      },
      "execution_count": null,
      "outputs": [
        {
          "output_type": "execute_result",
          "data": {
            "text/plain": [
              "584921"
            ]
          },
          "metadata": {},
          "execution_count": 16
        }
      ]
    },
    {
      "cell_type": "code",
      "source": [
        "train_embeddings = dis_model.encode(train_sentences, convert_to_numpy=True)"
      ],
      "metadata": {
        "id": "6kqDwGEa4RCY"
      },
      "execution_count": null,
      "outputs": []
    },
    {
      "cell_type": "code",
      "source": [
        "pca = PCA(n_components=new_dimension)\n",
        "pca.fit(train_embeddings)\n",
        "pca_comp = np.asarray(pca.components_)"
      ],
      "metadata": {
        "id": "K42Y1VsP4WtJ"
      },
      "execution_count": null,
      "outputs": []
    },
    {
      "cell_type": "code",
      "source": [
        "dense = models.Dense(in_features=dis_model.get_sentence_embedding_dimension(), out_features=new_dimension, bias=False, activation_function=torch.nn.Identity())\n",
        "dense.linear.weight = torch.nn.Parameter(torch.tensor(pca_comp))\n",
        "dis_model.add_module('dense', dense)"
      ],
      "metadata": {
        "id": "5G9jcosE4Yja"
      },
      "execution_count": null,
      "outputs": []
    },
    {
      "cell_type": "code",
      "source": [
        "dev_sentences = load_sentences(\"jsnli_1.1/dev.tsv\")\n",
        "dev_evaluator_mse = evaluation.MSEEvaluator(dev_sentences, dev_sentences, teacher_model=model)\n",
        "dev_evaluator = ParaphraseMiningEvaluator(sentences_map, duplicates_list, name=\"paramin-jsnli-dev\")"
      ],
      "metadata": {
        "id": "iTGUiEahCuLz"
      },
      "execution_count": null,
      "outputs": []
    },
    {
      "cell_type": "code",
      "source": [
        "dev_evaluator(dis_model)"
      ],
      "metadata": {
        "colab": {
          "base_uri": "https://localhost:8080/"
        },
        "id": "nYDHr-7cAKlE",
        "outputId": "9f45afea-791b-4f76-fb18-11818e011a8d"
      },
      "execution_count": null,
      "outputs": [
        {
          "output_type": "execute_result",
          "data": {
            "text/plain": [
              "0.11169841647482813"
            ]
          },
          "metadata": {},
          "execution_count": 24
        }
      ]
    }
  ]
}